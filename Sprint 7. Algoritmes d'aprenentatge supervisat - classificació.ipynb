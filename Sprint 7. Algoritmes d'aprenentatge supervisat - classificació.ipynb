{
 "cells": [
  {
   "cell_type": "markdown",
   "id": "4fcdcf27",
   "metadata": {},
   "source": [
    "# Exercici 1\n",
    "\n",
    "\n",
    "\n",
    "\n",
    "\n"
   ]
  },
  {
   "cell_type": "markdown",
   "id": "3829cd0f",
   "metadata": {},
   "source": [
    "Crea almenys dos models de classificació diferents per intentar predir millor les classes de l'arxiu adjunt."
   ]
  },
  {
   "cell_type": "markdown",
   "id": "d9b3215c",
   "metadata": {},
   "source": [
    "En primer lloc carreguem el dataset i mostrem els primers resultats."
   ]
  },
  {
   "cell_type": "code",
   "execution_count": 1,
   "id": "8d6c5665",
   "metadata": {},
   "outputs": [
    {
     "data": {
      "text/html": [
       "<div>\n",
       "<style scoped>\n",
       "    .dataframe tbody tr th:only-of-type {\n",
       "        vertical-align: middle;\n",
       "    }\n",
       "\n",
       "    .dataframe tbody tr th {\n",
       "        vertical-align: top;\n",
       "    }\n",
       "\n",
       "    .dataframe thead th {\n",
       "        text-align: right;\n",
       "    }\n",
       "</style>\n",
       "<table border=\"1\" class=\"dataframe\">\n",
       "  <thead>\n",
       "    <tr style=\"text-align: right;\">\n",
       "      <th></th>\n",
       "      <th>0</th>\n",
       "      <th>1</th>\n",
       "      <th>2</th>\n",
       "      <th>3</th>\n",
       "      <th>4</th>\n",
       "      <th>5</th>\n",
       "      <th>6</th>\n",
       "      <th>7</th>\n",
       "      <th>8</th>\n",
       "      <th>9</th>\n",
       "      <th>10</th>\n",
       "      <th>11</th>\n",
       "      <th>12</th>\n",
       "      <th>13</th>\n",
       "    </tr>\n",
       "  </thead>\n",
       "  <tbody>\n",
       "    <tr>\n",
       "      <th>66</th>\n",
       "      <td>2</td>\n",
       "      <td>13.11</td>\n",
       "      <td>1.01</td>\n",
       "      <td>1.70</td>\n",
       "      <td>15.0</td>\n",
       "      <td>78</td>\n",
       "      <td>2.98</td>\n",
       "      <td>3.18</td>\n",
       "      <td>0.26</td>\n",
       "      <td>2.28</td>\n",
       "      <td>5.3</td>\n",
       "      <td>1.12</td>\n",
       "      <td>3.18</td>\n",
       "      <td>502</td>\n",
       "    </tr>\n",
       "    <tr>\n",
       "      <th>108</th>\n",
       "      <td>2</td>\n",
       "      <td>12.22</td>\n",
       "      <td>1.29</td>\n",
       "      <td>1.94</td>\n",
       "      <td>19.0</td>\n",
       "      <td>92</td>\n",
       "      <td>2.36</td>\n",
       "      <td>2.04</td>\n",
       "      <td>0.39</td>\n",
       "      <td>2.08</td>\n",
       "      <td>2.7</td>\n",
       "      <td>0.86</td>\n",
       "      <td>3.02</td>\n",
       "      <td>312</td>\n",
       "    </tr>\n",
       "    <tr>\n",
       "      <th>8</th>\n",
       "      <td>1</td>\n",
       "      <td>14.83</td>\n",
       "      <td>1.64</td>\n",
       "      <td>2.17</td>\n",
       "      <td>14.0</td>\n",
       "      <td>97</td>\n",
       "      <td>2.80</td>\n",
       "      <td>2.98</td>\n",
       "      <td>0.29</td>\n",
       "      <td>1.98</td>\n",
       "      <td>5.2</td>\n",
       "      <td>1.08</td>\n",
       "      <td>2.85</td>\n",
       "      <td>1045</td>\n",
       "    </tr>\n",
       "    <tr>\n",
       "      <th>83</th>\n",
       "      <td>2</td>\n",
       "      <td>13.05</td>\n",
       "      <td>3.86</td>\n",
       "      <td>2.32</td>\n",
       "      <td>22.5</td>\n",
       "      <td>85</td>\n",
       "      <td>1.65</td>\n",
       "      <td>1.59</td>\n",
       "      <td>0.61</td>\n",
       "      <td>1.62</td>\n",
       "      <td>4.8</td>\n",
       "      <td>0.84</td>\n",
       "      <td>2.01</td>\n",
       "      <td>515</td>\n",
       "    </tr>\n",
       "    <tr>\n",
       "      <th>112</th>\n",
       "      <td>2</td>\n",
       "      <td>11.76</td>\n",
       "      <td>2.68</td>\n",
       "      <td>2.92</td>\n",
       "      <td>20.0</td>\n",
       "      <td>103</td>\n",
       "      <td>1.75</td>\n",
       "      <td>2.03</td>\n",
       "      <td>0.60</td>\n",
       "      <td>1.05</td>\n",
       "      <td>3.8</td>\n",
       "      <td>1.23</td>\n",
       "      <td>2.50</td>\n",
       "      <td>607</td>\n",
       "    </tr>\n",
       "  </tbody>\n",
       "</table>\n",
       "</div>"
      ],
      "text/plain": [
       "     0      1     2     3     4    5     6     7     8     9    10    11  \\\n",
       "66    2  13.11  1.01  1.70  15.0   78  2.98  3.18  0.26  2.28  5.3  1.12   \n",
       "108   2  12.22  1.29  1.94  19.0   92  2.36  2.04  0.39  2.08  2.7  0.86   \n",
       "8     1  14.83  1.64  2.17  14.0   97  2.80  2.98  0.29  1.98  5.2  1.08   \n",
       "83    2  13.05  3.86  2.32  22.5   85  1.65  1.59  0.61  1.62  4.8  0.84   \n",
       "112   2  11.76  2.68  2.92  20.0  103  1.75  2.03  0.60  1.05  3.8  1.23   \n",
       "\n",
       "       12    13  \n",
       "66   3.18   502  \n",
       "108  3.02   312  \n",
       "8    2.85  1045  \n",
       "83   2.01   515  \n",
       "112  2.50   607  "
      ]
     },
     "execution_count": 1,
     "metadata": {},
     "output_type": "execute_result"
    }
   ],
   "source": [
    "import pandas as pd\n",
    "\n",
    "df_wine = pd.read_csv('wineData.txt', header=None)\n",
    "\n",
    "df_wine.sample(5)"
   ]
  },
  {
   "cell_type": "markdown",
   "id": "8462dc07",
   "metadata": {},
   "source": [
    "Passem ara a veure quin tipus de variables tenim en el dataframe."
   ]
  },
  {
   "cell_type": "code",
   "execution_count": 2,
   "id": "cb5c11f4",
   "metadata": {},
   "outputs": [
    {
     "data": {
      "text/plain": [
       "0       int64\n",
       "1     float64\n",
       "2     float64\n",
       "3     float64\n",
       "4     float64\n",
       "5       int64\n",
       "6     float64\n",
       "7     float64\n",
       "8     float64\n",
       "9     float64\n",
       "10    float64\n",
       "11    float64\n",
       "12    float64\n",
       "13      int64\n",
       "dtype: object"
      ]
     },
     "execution_count": 2,
     "metadata": {},
     "output_type": "execute_result"
    }
   ],
   "source": [
    "df_wine.dtypes"
   ]
  },
  {
   "cell_type": "markdown",
   "id": "fd97a105",
   "metadata": {},
   "source": [
    "Ara inclourem una descripció de la informació que tenim en l'arxiu wineNames, referents als 13 components del vi, els quals són les variables (columnes del dataframe)."
   ]
  },
  {
   "cell_type": "markdown",
   "id": "586c8280",
   "metadata": {},
   "source": [
    " El dataset s'anomena \"Wine recognition data\". Els atributs del vi són els següents:\n",
    " \n",
    " <ol>\n",
    "\t1. Alcohol <br>\n",
    " \t2. Malic acid <br>\n",
    " \t3. Ash <br>\n",
    "\t4. Alcalinity of ash <br>\n",
    " \t5. Magnesium <br>\n",
    "\t6. Total phenols <br>\n",
    " \t7. Flavanoids <br>\n",
    " \t8. Nonflavanoid phenols <br>\n",
    " \t9. Proanthocyanins <br>\n",
    "\t10. Color intensity <br>\n",
    " \t11. Hue <br>\n",
    " \t12. OD280/OD315 of diluted wines <br>\n",
    " \t13. Proline            \n",
    "    \n",
    "  </ol>"
   ]
  },
  {
   "cell_type": "markdown",
   "id": "c5134603",
   "metadata": {},
   "source": [
    "Com veiem, tenim 13 variables però 14 columnes en el dataframe. La primera d'elles conté el tipus de vi, que s'ha classificat entres classes diferents: 1, 2, i 3. "
   ]
  },
  {
   "cell_type": "markdown",
   "id": "1df87218",
   "metadata": {},
   "source": [
    "Ara volem donar el seu nom a cadascuna de les columnes, ja que el nostre dataframe no té encapçalament (header)"
   ]
  },
  {
   "cell_type": "code",
   "execution_count": 3,
   "id": "4ff2764e",
   "metadata": {},
   "outputs": [],
   "source": [
    "nom_cols = ['Wine_type', 'Alcohol', 'Malic_acid', 'Ash', 'Alcalinity_of_ash', 'Magnesium', 'Total_phenols', 'Flavanoids', \n",
    "            'Nonflavanoid_phenols', 'Proanthocyanins', 'Color_intensity', 'Hue', 'OD280_OD315_diluted_wines', 'Proline']\n",
    "\n",
    "df_wine.columns = nom_cols"
   ]
  },
  {
   "cell_type": "markdown",
   "id": "82786ac2",
   "metadata": {},
   "source": [
    "Ara tornem a mostrar el dataframe amb el nom de les columnes."
   ]
  },
  {
   "cell_type": "code",
   "execution_count": 4,
   "id": "65a8ed22",
   "metadata": {},
   "outputs": [
    {
     "data": {
      "text/html": [
       "<div>\n",
       "<style scoped>\n",
       "    .dataframe tbody tr th:only-of-type {\n",
       "        vertical-align: middle;\n",
       "    }\n",
       "\n",
       "    .dataframe tbody tr th {\n",
       "        vertical-align: top;\n",
       "    }\n",
       "\n",
       "    .dataframe thead th {\n",
       "        text-align: right;\n",
       "    }\n",
       "</style>\n",
       "<table border=\"1\" class=\"dataframe\">\n",
       "  <thead>\n",
       "    <tr style=\"text-align: right;\">\n",
       "      <th></th>\n",
       "      <th>Wine_type</th>\n",
       "      <th>Alcohol</th>\n",
       "      <th>Malic_acid</th>\n",
       "      <th>Ash</th>\n",
       "      <th>Alcalinity_of_ash</th>\n",
       "      <th>Magnesium</th>\n",
       "      <th>Total_phenols</th>\n",
       "      <th>Flavanoids</th>\n",
       "      <th>Nonflavanoid_phenols</th>\n",
       "      <th>Proanthocyanins</th>\n",
       "      <th>Color_intensity</th>\n",
       "      <th>Hue</th>\n",
       "      <th>OD280_OD315_diluted_wines</th>\n",
       "      <th>Proline</th>\n",
       "    </tr>\n",
       "  </thead>\n",
       "  <tbody>\n",
       "    <tr>\n",
       "      <th>156</th>\n",
       "      <td>3</td>\n",
       "      <td>13.84</td>\n",
       "      <td>4.12</td>\n",
       "      <td>2.38</td>\n",
       "      <td>19.5</td>\n",
       "      <td>89</td>\n",
       "      <td>1.80</td>\n",
       "      <td>0.83</td>\n",
       "      <td>0.48</td>\n",
       "      <td>1.56</td>\n",
       "      <td>9.01</td>\n",
       "      <td>0.57</td>\n",
       "      <td>1.64</td>\n",
       "      <td>480</td>\n",
       "    </tr>\n",
       "    <tr>\n",
       "      <th>164</th>\n",
       "      <td>3</td>\n",
       "      <td>13.78</td>\n",
       "      <td>2.76</td>\n",
       "      <td>2.30</td>\n",
       "      <td>22.0</td>\n",
       "      <td>90</td>\n",
       "      <td>1.35</td>\n",
       "      <td>0.68</td>\n",
       "      <td>0.41</td>\n",
       "      <td>1.03</td>\n",
       "      <td>9.58</td>\n",
       "      <td>0.70</td>\n",
       "      <td>1.68</td>\n",
       "      <td>615</td>\n",
       "    </tr>\n",
       "    <tr>\n",
       "      <th>108</th>\n",
       "      <td>2</td>\n",
       "      <td>12.22</td>\n",
       "      <td>1.29</td>\n",
       "      <td>1.94</td>\n",
       "      <td>19.0</td>\n",
       "      <td>92</td>\n",
       "      <td>2.36</td>\n",
       "      <td>2.04</td>\n",
       "      <td>0.39</td>\n",
       "      <td>2.08</td>\n",
       "      <td>2.70</td>\n",
       "      <td>0.86</td>\n",
       "      <td>3.02</td>\n",
       "      <td>312</td>\n",
       "    </tr>\n",
       "    <tr>\n",
       "      <th>115</th>\n",
       "      <td>2</td>\n",
       "      <td>11.03</td>\n",
       "      <td>1.51</td>\n",
       "      <td>2.20</td>\n",
       "      <td>21.5</td>\n",
       "      <td>85</td>\n",
       "      <td>2.46</td>\n",
       "      <td>2.17</td>\n",
       "      <td>0.52</td>\n",
       "      <td>2.01</td>\n",
       "      <td>1.90</td>\n",
       "      <td>1.71</td>\n",
       "      <td>2.87</td>\n",
       "      <td>407</td>\n",
       "    </tr>\n",
       "    <tr>\n",
       "      <th>126</th>\n",
       "      <td>2</td>\n",
       "      <td>12.43</td>\n",
       "      <td>1.53</td>\n",
       "      <td>2.29</td>\n",
       "      <td>21.5</td>\n",
       "      <td>86</td>\n",
       "      <td>2.74</td>\n",
       "      <td>3.15</td>\n",
       "      <td>0.39</td>\n",
       "      <td>1.77</td>\n",
       "      <td>3.94</td>\n",
       "      <td>0.69</td>\n",
       "      <td>2.84</td>\n",
       "      <td>352</td>\n",
       "    </tr>\n",
       "  </tbody>\n",
       "</table>\n",
       "</div>"
      ],
      "text/plain": [
       "     Wine_type  Alcohol  Malic_acid   Ash  Alcalinity_of_ash  Magnesium  \\\n",
       "156          3    13.84        4.12  2.38               19.5         89   \n",
       "164          3    13.78        2.76  2.30               22.0         90   \n",
       "108          2    12.22        1.29  1.94               19.0         92   \n",
       "115          2    11.03        1.51  2.20               21.5         85   \n",
       "126          2    12.43        1.53  2.29               21.5         86   \n",
       "\n",
       "     Total_phenols  Flavanoids  Nonflavanoid_phenols  Proanthocyanins  \\\n",
       "156           1.80        0.83                  0.48             1.56   \n",
       "164           1.35        0.68                  0.41             1.03   \n",
       "108           2.36        2.04                  0.39             2.08   \n",
       "115           2.46        2.17                  0.52             2.01   \n",
       "126           2.74        3.15                  0.39             1.77   \n",
       "\n",
       "     Color_intensity   Hue  OD280_OD315_diluted_wines  Proline  \n",
       "156             9.01  0.57                       1.64      480  \n",
       "164             9.58  0.70                       1.68      615  \n",
       "108             2.70  0.86                       3.02      312  \n",
       "115             1.90  1.71                       2.87      407  \n",
       "126             3.94  0.69                       2.84      352  "
      ]
     },
     "execution_count": 4,
     "metadata": {},
     "output_type": "execute_result"
    }
   ],
   "source": [
    "df_wine.sample(5)"
   ]
  },
  {
   "cell_type": "markdown",
   "id": "5e25bce7",
   "metadata": {},
   "source": [
    "Un cop ja tenim totes les columnes amb el seu nom corresponent, anem a fer una descripció de les variables:\n",
    "    \n",
    "- Wine_type : variable numèrica discreta\n",
    "- Alcohol: variable numèrica contínua\n",
    "- Malic_acid: variable numèrica contínua\n",
    "- Ash: variable numèrica contínua\n",
    "- Alcalinity_of_ash: variable numèrica contínua\n",
    "- Magnesium: variable numèrica discreta\n",
    "- Total_phenols: variable numèrica contínua\n",
    "- Flavanoids: variable numèrica contínua\n",
    "- Nonflavanoid_phenols: variable numèrica contínua\n",
    "- Proanthocyanins: variable numèrica contínua\n",
    "- Color_intensity: variable numèrica contínua\n",
    "- Hue: variable numèrica contínua\n",
    "- O280_OD315_ dilueted_wines: variable numèrica contínua\n",
    "- Proline: variable numèrica discreta"
   ]
  },
  {
   "cell_type": "markdown",
   "id": "b72d6e29",
   "metadata": {},
   "source": [
    "Ara mirarem si tenim valors NaN (not a number)."
   ]
  },
  {
   "cell_type": "code",
   "execution_count": 5,
   "id": "f1fc6bc8",
   "metadata": {},
   "outputs": [
    {
     "data": {
      "text/plain": [
       "Wine_type                    0\n",
       "Alcohol                      0\n",
       "Malic_acid                   0\n",
       "Ash                          0\n",
       "Alcalinity_of_ash            0\n",
       "Magnesium                    0\n",
       "Total_phenols                0\n",
       "Flavanoids                   0\n",
       "Nonflavanoid_phenols         0\n",
       "Proanthocyanins              0\n",
       "Color_intensity              0\n",
       "Hue                          0\n",
       "OD280_OD315_diluted_wines    0\n",
       "Proline                      0\n",
       "dtype: int64"
      ]
     },
     "execution_count": 5,
     "metadata": {},
     "output_type": "execute_result"
    }
   ],
   "source": [
    "df_wine.isna().sum() # Busquem si hi ha valors NaN i els comptem, per cada variable"
   ]
  },
  {
   "cell_type": "markdown",
   "id": "7a2c74a4",
   "metadata": {},
   "source": [
    "Com podem veure, no tenim valors NaN en les nostres dades. "
   ]
  },
  {
   "cell_type": "markdown",
   "id": "e66876fd",
   "metadata": {},
   "source": [
    "La columna 'Wine_type' és el tipus de vi (1, 2 o 3), que és justament el que volem predir, el nostre target. El que farem és utilitzar aquesta informació a l'hora d'entrenar el model i veure si podem millorar la seva predicció. Els models que utilitzarem són el Random Forest i el Gradient Boosting Machine, ja que s'utilitzen en aprenentatge supervisat, per problemes de classificació de múltiples variables numèriques. Començarem pel Random Forest:"
   ]
  },
  {
   "cell_type": "code",
   "execution_count": 6,
   "id": "525f9a1a",
   "metadata": {},
   "outputs": [
    {
     "name": "stdout",
     "output_type": "stream",
     "text": [
      "Precisió del model: 1.00\n"
     ]
    }
   ],
   "source": [
    "# Importem les llibreries necessàries\n",
    "from sklearn.model_selection import train_test_split\n",
    "from sklearn.ensemble import RandomForestClassifier\n",
    "from sklearn.metrics import accuracy_score\n",
    "\n",
    "# Suposant que df_wine és el teu dataframe i ja està carregat\n",
    "X = df_wine.drop('Wine_type', axis=1)  # Excloem la columna 'Wine_type' que conté les etiquetes\n",
    "y = df_wine['Wine_type']\n",
    "\n",
    "# Dividim el conjunt de dades en entrenament i prova\n",
    "X_train, X_test, y_train, y_test = train_test_split(X, y, test_size=0.2, random_state=42)\n",
    "\n",
    "# Creem i entrenem el model Random Forest\n",
    "rf = RandomForestClassifier(n_estimators=100, random_state=42)\n",
    "rf.fit(X_train, y_train)\n",
    "\n",
    "# Fem prediccions amb el conjunt de prova\n",
    "y_pred = rf.predict(X_test)\n",
    "\n",
    "# Calculem la precisió del model\n",
    "accuracy = accuracy_score(y_test, y_pred)\n",
    "print(f\"Precisió del model: {accuracy:.2f}\")\n"
   ]
  },
  {
   "cell_type": "markdown",
   "id": "943b8621",
   "metadata": {},
   "source": [
    "El resultat indica que la precisió del model és del 100%, fet que pot indicar un sobreajustament. El que podem fer ara és aplicar una validació creuada (cross-validation) per tal d'avaluar la seva capacitat de generalització i evitar el sobreajustament."
   ]
  },
  {
   "cell_type": "code",
   "execution_count": 7,
   "id": "10bfc3d6",
   "metadata": {},
   "outputs": [
    {
     "name": "stdout",
     "output_type": "stream",
     "text": [
      "Resultats de la validació creuada: [0.97222222 0.94444444 0.97222222 0.97142857 1.        ]\n",
      "Mitjana de la precisió: 0.97\n"
     ]
    }
   ],
   "source": [
    "from sklearn.model_selection import cross_val_score\n",
    "\n",
    "# Creem el model Random Forest\n",
    "rf = RandomForestClassifier(n_estimators=100, random_state=42)\n",
    "\n",
    "# Aplicquem la validació creuada\n",
    "scores = cross_val_score(rf, X, y, cv=5, scoring='accuracy') # cv=5 indica que es faran 5 particions de les dades\n",
    "\n",
    "# Mostrem els resultats de cada partició i la mitjana\n",
    "print(f\"Resultats de la validació creuada: {scores}\")\n",
    "print(f\"Mitjana de la precisió: {scores.mean():.2f}\")\n"
   ]
  },
  {
   "cell_type": "markdown",
   "id": "235adb96",
   "metadata": {},
   "source": [
    "Els resultats de la validació creuada són força bons. Una precisió mitjana de 0.97 (97%) indica que el model Random Forest està funcionant molt bé en el conjunt de dades."
   ]
  },
  {
   "cell_type": "markdown",
   "id": "bf67ffb3",
   "metadata": {},
   "source": [
    "Ara aplicarem un model Gradient Boosting:"
   ]
  },
  {
   "cell_type": "code",
   "execution_count": 8,
   "id": "f780e5e7",
   "metadata": {},
   "outputs": [
    {
     "name": "stdout",
     "output_type": "stream",
     "text": [
      "Resultats de la validació creuada: [0.91666667 0.94444444 0.88888889 0.97142857 0.97142857]\n",
      "Mitjana de la precisió: 0.94\n"
     ]
    }
   ],
   "source": [
    "from sklearn.ensemble import GradientBoostingClassifier\n",
    "from sklearn.model_selection import cross_val_score\n",
    "\n",
    "# Creem el model Gradient Boosting\n",
    "gb = GradientBoostingClassifier(n_estimators=100, random_state=42)\n",
    "\n",
    "# Apliquem la validació creuada\n",
    "scores = cross_val_score(gb, X, y, cv=5, scoring='accuracy')\n",
    "\n",
    "# Mostrem els resultats de cada partició i la mitjana\n",
    "print(f\"Resultats de la validació creuada: {scores}\")\n",
    "print(f\"Mitjana de la precisió: {scores.mean():.2f}\")\n"
   ]
  },
  {
   "cell_type": "markdown",
   "id": "591b88ce",
   "metadata": {},
   "source": [
    "Els resultats de la validació creuada amb el model Gradient Boosting mostren una precisió mitjana d'aproximadament \n",
    "0.94 (o 94%), la qual és una mètrica de rendiment força bona, encara que lleugerament inferior a la que hem obtingut amb el Random Forest (97%). "
   ]
  },
  {
   "cell_type": "markdown",
   "id": "4b7502ef",
   "metadata": {},
   "source": [
    "\n",
    "# Exercici 2\n",
    "\n",
    "\n",
    "\n",
    "\n"
   ]
  },
  {
   "cell_type": "markdown",
   "id": "50d12758",
   "metadata": {},
   "source": [
    "Compara els models de classificació utilitzant la precisió (accuracy), una matriu de confusió i d’altres mètriques més avançades."
   ]
  },
  {
   "cell_type": "markdown",
   "id": "497fec3d",
   "metadata": {},
   "source": [
    "Ara compararem els dos models mitjançant l'accuracy, la matriu de confusió, la precisió, el recall, l'F1 score i l'AUC-ROC:"
   ]
  },
  {
   "cell_type": "code",
   "execution_count": 9,
   "id": "7fad41b8",
   "metadata": {},
   "outputs": [
    {
     "name": "stdout",
     "output_type": "stream",
     "text": [
      "Resultats per al RandomForest:\n",
      "Matriu de Confusió:\n",
      "[[14  0  0]\n",
      " [ 0 14  0]\n",
      " [ 0  0  8]]\n",
      "Precisió: 1.00\n",
      "Recall: 1.00\n",
      "F1 score: 1.00\n",
      "AUC-ROC: 1.00\n",
      "Resultats per al GradientBoosting:\n",
      "Matriu de Confusió:\n",
      "[[14  0  0]\n",
      " [ 1 13  0]\n",
      " [ 0  1  7]]\n",
      "Precisió: 0.95\n",
      "Recall: 0.93\n",
      "F1 score: 0.94\n",
      "AUC-ROC: 1.00\n"
     ]
    }
   ],
   "source": [
    "from sklearn.metrics import confusion_matrix, precision_score, recall_score, f1_score, roc_auc_score\n",
    "from sklearn.model_selection import train_test_split\n",
    "\n",
    "# Dividim les dades en entrenament i prova\n",
    "X_train, X_test, y_train, y_test = train_test_split(X, y, test_size=0.2, random_state=42)\n",
    "\n",
    "# Entrenem els models\n",
    "rf.fit(X_train, y_train)\n",
    "gb.fit(X_train, y_train)\n",
    "\n",
    "# Fem prediccions\n",
    "y_pred_rf = rf.predict(X_test)\n",
    "y_pred_gb = gb.predict(X_test)\n",
    "\n",
    "# Calculem les mètriques per a cada model\n",
    "for model_name, y_pred in [('RandomForest', y_pred_rf), ('GradientBoosting', y_pred_gb)]:\n",
    "    print(f\"Resultats per al {model_name}:\")\n",
    "    print(f\"Matriu de Confusió:\\n{confusion_matrix(y_test, y_pred)}\")\n",
    "    print(f\"Precisió: {precision_score(y_test, y_pred, average='macro'):.2f}\")\n",
    "    print(f\"Recall: {recall_score(y_test, y_pred, average='macro'):.2f}\")\n",
    "    print(f\"F1 score: {f1_score(y_test, y_pred, average='macro'):.2f}\")\n",
    "    print(f\"AUC-ROC: {roc_auc_score(y_test, rf.predict_proba(X_test), multi_class='ovr'):.2f}\")\n"
   ]
  },
  {
   "cell_type": "markdown",
   "id": "a6d182a6",
   "metadata": {},
   "source": [
    "Ara anem a analitzar els resultats obtinguts. Pel RandomForest els resultats són els següents:\n",
    "\n",
    "- Matriu de Confusió: el model ha predit totes les classes correctament sense errors.\n",
    "- Precisió: totes les prediccions positives són correctes.\n",
    "- Recall: el model ha identificat correctament totes les instàncies positives.\n",
    "- F1 score: puntuació excel.lent, mostrant un equilibri perfecte entre precisió i recall.\n",
    "- AUC-ROC: indica una distinció perfecta entre classes.\n",
    "\n",
    "Ara pel GradientBoosting:\n",
    "\n",
    "- Matriu de Confusió: Hi ha un petit nombre d'errors (1 fals positiu i 1 fals negatiu).\n",
    "- Precisió: força alta (0.95), però no perfecta a causa dels errors mencionats.\n",
    "- Recall: mostra que la majoria de les instàncies positives s'han identificat correctament, però no totes (0.93)\n",
    "- Puntuació F1: alta (0.94) però lleugerament inferior a la del RandomForest a causa dels errors en la precisió i la recobrada.\n",
    "- AUC-ROC: indica una excel·lent capacitat de diferenciar entre les classes.\n",
    "\n",
    "Així doncs, el model RandomForest està funcionant de manera excepcional amb el conjunt de dades, assolint puntuacions perfectes en totes les mètriques. Això indica que el model s'ha ajustat molt bé a les dades que tenim, però també podria indicar, com hem comentat abans, un possible sobreajustament. El model Gradient Boosting també està funcionant molt bé, però amb un petit marge d'error. Això podria indicar que el model està generalitzant una mica millor que el Random Forest, encara que amb un rendiment lleugerament inferior.\n",
    "\n",
    "En conclusió, mentre que el RandomForest està donant resultats perfectes en aquest conjunt de dades, pot ser útil provar amb conjunts de dades més grans o més variats per a veure si aquests resultats es mantenen. El Gradient Boosting, tot i no ser perfecte, podria oferir una millor generalització en situacions diferents."
   ]
  },
  {
   "cell_type": "markdown",
   "id": "4dff0f2a",
   "metadata": {},
   "source": [
    "# Exercici 3\n",
    "\n",
    "\n",
    "\n",
    "\n"
   ]
  },
  {
   "cell_type": "markdown",
   "id": "b8689266",
   "metadata": {},
   "source": [
    "Entrena’ls usant els diferents paràmetres que admeten per tal de millorar-ne la predicció."
   ]
  },
  {
   "cell_type": "markdown",
   "id": "49dc74ec",
   "metadata": {},
   "source": [
    "Els paràmetres que podem modificar per tal de millorar la predicció dels models són els següents:\n",
    "\n",
    "Pel Random Forest:\n",
    "\n",
    "- n_estimators: Nombre d'arbres en el bosc. Més arbres poden millorar el rendiment, però també augmenten el temps de càlcul.\n",
    "- max_depth: Profunditat màxima dels arbres. Una major profunditat pot capturar més informació, però també pot conduir a sobreajustament.\n",
    "- min_samples_split: Nombre mínim de mostres necessàries per dividir un node.\n",
    "- min_samples_leaf: Nombre mínim de mostres necessàries en una fulla.\n",
    "- max_features: Nombre de característiques a considerar quan es busca la millor divisió.\n",
    "\n",
    "Pel Gradient Boosting:\n",
    "\n",
    "- n_estimators: Nombre de fases de boosting a realitzar. Més fases poden millorar el rendiment, però també poden conduir a sobreajustament.\n",
    "- learning_rate: Taxa d'aprenentatge. Reduir-la pot millorar el rendiment, però requereix més estimadors.\n",
    "- max_depth: Profunditat màxima dels arbres.\n",
    "- min_samples_split i min_samples_leaf.\n",
    "- subsample: Fracció de mostres a utilitzar per ajustar els arbres individuals."
   ]
  },
  {
   "cell_type": "markdown",
   "id": "0ab1c291",
   "metadata": {},
   "source": [
    "El que farem és utilitzar GridSearchCV de Scikit-learn per a buscar automàticament la millor combinació de paràmetres, en comptes de fer-ho manualment. "
   ]
  },
  {
   "cell_type": "markdown",
   "id": "8079f30a",
   "metadata": {},
   "source": [
    "Comencem buscant els millors paràmetres pel Random Forest:"
   ]
  },
  {
   "cell_type": "code",
   "execution_count": 10,
   "id": "61b8b675",
   "metadata": {},
   "outputs": [
    {
     "name": "stdout",
     "output_type": "stream",
     "text": [
      "Fitting 3 folds for each of 162 candidates, totalling 486 fits\n",
      "{'max_depth': None, 'max_features': 'sqrt', 'min_samples_leaf': 1, 'min_samples_split': 2, 'n_estimators': 100}\n"
     ]
    }
   ],
   "source": [
    "from sklearn.model_selection import GridSearchCV\n",
    "\n",
    "# Paràmetres a provar en la cerca en quadrícula\n",
    "param_grid_rf = {\n",
    "    'n_estimators': [100, 200, 300],\n",
    "    'max_depth': [None, 10, 20],\n",
    "    'min_samples_split': [2, 5, 10],\n",
    "    'min_samples_leaf': [1, 2, 4],\n",
    "    'max_features': ['sqrt', 'log2'] \n",
    "}\n",
    "\n",
    "\n",
    "# Creació del model i GridSearchCV\n",
    "rf = RandomForestClassifier(random_state=42)\n",
    "grid_search_rf = GridSearchCV(estimator=rf, param_grid=param_grid_rf, cv=3, n_jobs=-1, verbose=2, scoring='accuracy')\n",
    "\n",
    "# Entrenament utilitzant la cerca en quadrícula\n",
    "grid_search_rf.fit(X_train, y_train)\n",
    "\n",
    "# Millors paràmetres\n",
    "print(grid_search_rf.best_params_)\n"
   ]
  },
  {
   "cell_type": "markdown",
   "id": "f15f4b01",
   "metadata": {},
   "source": [
    "Anem a interpretar els resultats obtinguts pel Random Forest. Segons la mètrica escollida (Accuracy) els millors paràmetres són:\n",
    "\n",
    "- max_depth: None - No hi ha una profunditat màxima per als arbres, el que significa que els arbres poden créixer tant com sigui necessari per minimitzar l'error dins de cada node, sempre que els altres criteris d'aturada no s'activin.\n",
    "\n",
    "- max_features: 'sqrt' - El nombre de característiques a considerar quan es busca la millor divisió en cada node és l'arrel quadrada del nombre total de característiques. Aquesta és una pràctica comuna per evitar que un petit grup de característiques molt predictives domini l'aprenentatge.\n",
    "\n",
    "- min_samples_leaf: 1 - Cada fulla (node final) de l'arbre ha de tenir almenys una mostra. Això permet que l'arbre sigui tan detallat com sigui possible, tot i que pot augmentar el risc de sobreajustament.\n",
    "\n",
    "- min_samples_split: 2 - Un node es dividirà en dos nodes fills només si conté almenys dues mostres. Aquest és el valor mínim i permet que els arbres creixin lliurement.\n",
    "\n",
    "- n_estimators: 100 - El model utilitza 100 arbres individuals. Aquesta és una quantitat moderada d'arbres i generalment proporciona un bon equilibri entre temps de càlcul i rendiment del model.\n"
   ]
  },
  {
   "cell_type": "markdown",
   "id": "fde02a7a",
   "metadata": {},
   "source": [
    "Ara busquem els millors paràmetres pel Gradient Boosting:"
   ]
  },
  {
   "cell_type": "code",
   "execution_count": 25,
   "id": "b9b6fc75",
   "metadata": {},
   "outputs": [
    {
     "name": "stdout",
     "output_type": "stream",
     "text": [
      "Fitting 3 folds for each of 729 candidates, totalling 2187 fits\n",
      "{'learning_rate': 0.2, 'max_depth': 4, 'min_samples_leaf': 4, 'min_samples_split': 2, 'n_estimators': 100, 'subsample': 0.8}\n"
     ]
    }
   ],
   "source": [
    "from sklearn.model_selection import GridSearchCV\n",
    "from sklearn.ensemble import GradientBoostingClassifier\n",
    "\n",
    "# Paràmetres a provar en la cerca en quadrícula per al Gradient Boosting\n",
    "param_grid_gb = {\n",
    "    'n_estimators': [100, 200, 300],\n",
    "    'learning_rate': [0.01, 0.1, 0.2],\n",
    "    'max_depth': [3, 4, 5],\n",
    "    'min_samples_split': [2, 5, 10],\n",
    "    'min_samples_leaf': [1, 2, 4],\n",
    "    'subsample': [0.8, 0.9, 1.0]\n",
    "}\n",
    "\n",
    "# Creació del model i GridSearchCV\n",
    "gb = GradientBoostingClassifier(random_state=42)\n",
    "grid_search_gb = GridSearchCV(estimator=gb, param_grid=param_grid_gb, cv=3, n_jobs=-1, verbose=2, scoring='accuracy')\n",
    "\n",
    "# Entrenament utilitzant la cerca en quadrícula\n",
    "grid_search_gb.fit(X_train, y_train)\n",
    "\n",
    "# Millors paràmetres\n",
    "print(grid_search_gb.best_params_)\n"
   ]
  },
  {
   "cell_type": "markdown",
   "id": "fd3f7f53",
   "metadata": {},
   "source": [
    "Ara interpretarem els resultats pel Gradient Boosting. Segons la mètrica escollida (Accuracy) els millors paràmetres són:\n",
    "\n",
    "- learning_rate: 0.2 - Aquest és un valor relativament alt per a la taxa d'aprenentatge, el que indica que cada arbre successiu contribueix més a la correcció dels errors fets pels arbres anteriors. Una taxa d'aprenentatge més alta pot accelerar el procés d'entrenament, però també pot portar a un sobreajustament si no es controla amb altres paràmetres.\n",
    "\n",
    "- max_depth: 4 - Això limita la profunditat màxima de cada arbre a 4 nivells. Una profunditat major pot capturar relacions més complexes, però també incrementa el risc de sobreajustament. Una profunditat de 4 és un equilibri entre la modelització de relacions complexes i la prevenció de l'aprenentatge de soroll dels dades.\n",
    "\n",
    "- min_samples_leaf: 4 - Cada fulla (o node final) de l'arbre ha de tenir almenys 4 mostres. Això ajuda a suavitzar el model, evitant regles excessivament específiques que podrien ser resultats de soroll en els dades.\n",
    "\n",
    "- min_samples_split: 2 - Aquest és el nombre mínim de mostres requerides per dividir un node. Un valor de 2 permet que el model es divideixi lliurement, però pot portar a una gran quantitat de divisions, potencialment sobreajustant-se.\n",
    "\n",
    "- n_estimators: 100 - El model utilitza 100 arbres. Aquesta és una quantitat moderada d'arbres, proporcionant un bon equilibri entre temps de càlcul i capacitat de modelització.\n",
    "\n",
    "- subsample: 0.8 - Aquest paràmetre està relacionat amb la tècnica de 'Stochastic Gradient Boosting', on cada arbre individual és entrenat en un subconjunt aleatori del 80% de les dades d'entrenament. Això ajuda a prevenir el sobreajustament i pot millorar la generalització."
   ]
  },
  {
   "cell_type": "markdown",
   "id": "4d007561",
   "metadata": {},
   "source": [
    "# Exercici 4\n",
    "\n",
    "\n",
    "\n",
    "\n"
   ]
  },
  {
   "cell_type": "markdown",
   "id": "3a59688b",
   "metadata": {},
   "source": [
    "Compara el seu rendiment fent servir l’aproximació traint/test o cross-validation."
   ]
  },
  {
   "cell_type": "markdown",
   "id": "1a82c803",
   "metadata": {},
   "source": [
    "Ara utilitzarem els millors paràmetres obtinguts per veure el seu rendiment a partir d'un train/test. "
   ]
  },
  {
   "cell_type": "code",
   "execution_count": 14,
   "id": "42b1d421",
   "metadata": {},
   "outputs": [],
   "source": [
    "from sklearn.model_selection import train_test_split\n",
    "\n",
    "X = df_wine.drop('Wine_type', axis=1)  # Eliminem la columna objectiu per a obtenir les característiques\n",
    "y = df_wine['Wine_type']  # La nostra variable objectiu\n",
    "\n",
    "# Ara dividim les dades en conjunts d'entrenament i prova\n",
    "X_train, X_test, y_train, y_test = train_test_split(X, y, test_size=0.3, random_state=42)\n"
   ]
  },
  {
   "cell_type": "code",
   "execution_count": 15,
   "id": "c51baa6c",
   "metadata": {},
   "outputs": [
    {
     "name": "stdout",
     "output_type": "stream",
     "text": [
      "Model: RandomForestClassifier\n",
      "Accuracy: 1.0\n",
      "Confusion Matrix:\n",
      "[[19  0  0]\n",
      " [ 0 21  0]\n",
      " [ 0  0 14]]\n",
      "Classification Report:\n",
      "              precision    recall  f1-score   support\n",
      "\n",
      "           1       1.00      1.00      1.00        19\n",
      "           2       1.00      1.00      1.00        21\n",
      "           3       1.00      1.00      1.00        14\n",
      "\n",
      "    accuracy                           1.00        54\n",
      "   macro avg       1.00      1.00      1.00        54\n",
      "weighted avg       1.00      1.00      1.00        54\n",
      "\n",
      "\n",
      "Model: GradientBoostingClassifier\n",
      "Accuracy: 1.0\n",
      "Confusion Matrix:\n",
      "[[19  0  0]\n",
      " [ 0 21  0]\n",
      " [ 0  0 14]]\n",
      "Classification Report:\n",
      "              precision    recall  f1-score   support\n",
      "\n",
      "           1       1.00      1.00      1.00        19\n",
      "           2       1.00      1.00      1.00        21\n",
      "           3       1.00      1.00      1.00        14\n",
      "\n",
      "    accuracy                           1.00        54\n",
      "   macro avg       1.00      1.00      1.00        54\n",
      "weighted avg       1.00      1.00      1.00        54\n",
      "\n",
      "\n"
     ]
    }
   ],
   "source": [
    "# Entrenament i avaluació amb Train/Test\n",
    "from sklearn.ensemble import RandomForestClassifier, GradientBoostingClassifier\n",
    "from sklearn.metrics import accuracy_score, confusion_matrix, classification_report\n",
    "\n",
    "# Millors paràmetres dels models\n",
    "rf_best_params = {'max_depth': None, 'max_features': 'sqrt', 'min_samples_leaf': 1, 'min_samples_split': 2, 'n_estimators': 100}\n",
    "gb_best_params = {'learning_rate': 0.2, 'max_depth': 4, 'min_samples_leaf': 4, 'min_samples_split': 2, 'n_estimators': 100, 'subsample': 0.8}\n",
    "\n",
    "# Inicialització dels models amb els millors paràmetres\n",
    "rf = RandomForestClassifier(**rf_best_params, random_state=42)\n",
    "gb = GradientBoostingClassifier(**gb_best_params, random_state=42)\n",
    "\n",
    "# Entrenament dels models\n",
    "rf.fit(X_train, y_train)\n",
    "gb.fit(X_train, y_train)\n",
    "\n",
    "# Predicció i avaluació\n",
    "for model in [rf, gb]:\n",
    "    y_pred = model.predict(X_test)\n",
    "    print(f\"Model: {model.__class__.__name__}\")\n",
    "    print(f\"Accuracy: {accuracy_score(y_test, y_pred)}\")\n",
    "    print(f\"Confusion Matrix:\\n{confusion_matrix(y_test, y_pred)}\")\n",
    "    print(f\"Classification Report:\\n{classification_report(y_test, y_pred)}\\n\")\n"
   ]
  },
  {
   "cell_type": "code",
   "execution_count": 16,
   "id": "1460a794",
   "metadata": {},
   "outputs": [
    {
     "name": "stdout",
     "output_type": "stream",
     "text": [
      "Random Forest CV Accuracy: 0.97 +/- 0.02\n",
      "Gradient Boosting CV Accuracy: 0.97 +/- 0.03\n"
     ]
    }
   ],
   "source": [
    "# Validació creuada\n",
    "from sklearn.model_selection import cross_val_score\n",
    "\n",
    "# Realització de la validació creuada\n",
    "scores_rf = cross_val_score(rf, X, y, cv=5, scoring='accuracy')\n",
    "scores_gb = cross_val_score(gb, X, y, cv=5, scoring='accuracy')\n",
    "\n",
    "# Impressió dels resultats\n",
    "print(f\"Random Forest CV Accuracy: {scores_rf.mean():.2f} +/- {scores_rf.std():.2f}\")\n",
    "print(f\"Gradient Boosting CV Accuracy: {scores_gb.mean():.2f} +/- {scores_gb.std():.2f}\")\n",
    "\n"
   ]
  },
  {
   "cell_type": "markdown",
   "id": "b6a0655a",
   "metadata": {},
   "source": [
    "<b>Resultats Train/Test Split:</b>\n",
    "\n",
    "Ambdós models han aconseguit una precisió (accuracy) perfecta de 1.0 en el conjunt de prova, amb una matriu de confusió que mostra una classificació correcta de totes les mostres. Això significa que tant el Random Forest com el Gradient Boosting han pogut classificar correctament totes les instàncies del conjunt de dades de prova sense errors.\n",
    "\n",
    "<b>Resultats Validació Creuada:</b>\n",
    "\n",
    "En canvi, amb la validació creuada (utilitzant 5 folds), ambdós models mostren una precisió mitjana lleugerament inferior, al voltant de 0.97, amb una desviació estàndard de 0.02 i 0.03, respectivament. Això indica que, encara que els models són molt forts, poden no ser perfectes quan s'apliquen a diferents subconjunts de les dades.\n",
    "\n",
    "<b>Anàlisi:</b>\n",
    "\n",
    "- Sobreajustament: La precisió perfecta en l'aproximació train/test podria ser un indicador de sobreajustament, especialment tenint en compte que la validació creuada mostra una precisió lleugerament inferior. El sobreajustament es produeix quan un model aprèn tant els patrons com el soroll (detalls específics) de les dades d'entrenament, el que pot afectar negativament la seva capacitat de generalitzar a noves dades.\n",
    "\n",
    "- Generalització: La validació creuada ofereix una millor estimació de com els models es comportarien amb dades no vistes, ja que implica entrenar i avaluar el model en diferents conjunts de dades. Una precisió de 0.97 en aquesta configuració suggereix que els models són molt robustos, però no infal·libles.\n",
    "\n",
    "- Consistència dels Models: El fet que ambdós models tinguin rendiments similars tant en l'aproximació train/test com en la validació creuada indica una consistència en el rendiment, un signe positiu que els models són forts i fiables.\n",
    "\n",
    "<b>Conclusions:</b>\n",
    "\n",
    "Basant-nos en aquests resultats, tant el Random Forest com el Gradient Boosting semblen ser models molt eficaços per a aquest conjunt de dades. Tot i així, seria prudent considerar tècniques per mitigar el potencial sobreajustament, com l'ús de més dades, l'aplicació de mètodes de regularització, o l'ajustament dels paràmetres del model. Finalment, és important tenir en compte que una precisió perfecta en un conjunt de dades específic no sempre és indicatiu de la qualitat real del model, especialment si les dades són limitades o no representen tota la varietat de casos que el model podria trobar en aplicacions reals."
   ]
  },
  {
   "cell_type": "markdown",
   "id": "19115eff",
   "metadata": {},
   "source": [
    "# Exercici 5\n"
   ]
  },
  {
   "cell_type": "markdown",
   "id": "d7f41708",
   "metadata": {},
   "source": [
    "Aplica algun procés d'enginyeria per millorar els resultats (normalització, estandardització, mostreig...)"
   ]
  },
  {
   "cell_type": "markdown",
   "id": "1b6a92ff",
   "metadata": {},
   "source": [
    "Hem decidit aplicar un procés d'estandardització per veure si podem millorar els resultats, tot i que ja són força bons."
   ]
  },
  {
   "cell_type": "code",
   "execution_count": 17,
   "id": "c6579951",
   "metadata": {},
   "outputs": [],
   "source": [
    "from sklearn.preprocessing import StandardScaler\n",
    "\n",
    "scaler = StandardScaler()\n",
    "X_train_scaled = scaler.fit_transform(X_train)\n",
    "X_test_scaled = scaler.transform(X_test)\n"
   ]
  },
  {
   "cell_type": "markdown",
   "id": "d06cb8ea",
   "metadata": {},
   "source": [
    "Ara reentranem el model amb les dades estandarditzades:"
   ]
  },
  {
   "cell_type": "code",
   "execution_count": 18,
   "id": "1543af24",
   "metadata": {},
   "outputs": [
    {
     "data": {
      "text/html": [
       "<style>#sk-container-id-1 {color: black;}#sk-container-id-1 pre{padding: 0;}#sk-container-id-1 div.sk-toggleable {background-color: white;}#sk-container-id-1 label.sk-toggleable__label {cursor: pointer;display: block;width: 100%;margin-bottom: 0;padding: 0.3em;box-sizing: border-box;text-align: center;}#sk-container-id-1 label.sk-toggleable__label-arrow:before {content: \"▸\";float: left;margin-right: 0.25em;color: #696969;}#sk-container-id-1 label.sk-toggleable__label-arrow:hover:before {color: black;}#sk-container-id-1 div.sk-estimator:hover label.sk-toggleable__label-arrow:before {color: black;}#sk-container-id-1 div.sk-toggleable__content {max-height: 0;max-width: 0;overflow: hidden;text-align: left;background-color: #f0f8ff;}#sk-container-id-1 div.sk-toggleable__content pre {margin: 0.2em;color: black;border-radius: 0.25em;background-color: #f0f8ff;}#sk-container-id-1 input.sk-toggleable__control:checked~div.sk-toggleable__content {max-height: 200px;max-width: 100%;overflow: auto;}#sk-container-id-1 input.sk-toggleable__control:checked~label.sk-toggleable__label-arrow:before {content: \"▾\";}#sk-container-id-1 div.sk-estimator input.sk-toggleable__control:checked~label.sk-toggleable__label {background-color: #d4ebff;}#sk-container-id-1 div.sk-label input.sk-toggleable__control:checked~label.sk-toggleable__label {background-color: #d4ebff;}#sk-container-id-1 input.sk-hidden--visually {border: 0;clip: rect(1px 1px 1px 1px);clip: rect(1px, 1px, 1px, 1px);height: 1px;margin: -1px;overflow: hidden;padding: 0;position: absolute;width: 1px;}#sk-container-id-1 div.sk-estimator {font-family: monospace;background-color: #f0f8ff;border: 1px dotted black;border-radius: 0.25em;box-sizing: border-box;margin-bottom: 0.5em;}#sk-container-id-1 div.sk-estimator:hover {background-color: #d4ebff;}#sk-container-id-1 div.sk-parallel-item::after {content: \"\";width: 100%;border-bottom: 1px solid gray;flex-grow: 1;}#sk-container-id-1 div.sk-label:hover label.sk-toggleable__label {background-color: #d4ebff;}#sk-container-id-1 div.sk-serial::before {content: \"\";position: absolute;border-left: 1px solid gray;box-sizing: border-box;top: 0;bottom: 0;left: 50%;z-index: 0;}#sk-container-id-1 div.sk-serial {display: flex;flex-direction: column;align-items: center;background-color: white;padding-right: 0.2em;padding-left: 0.2em;position: relative;}#sk-container-id-1 div.sk-item {position: relative;z-index: 1;}#sk-container-id-1 div.sk-parallel {display: flex;align-items: stretch;justify-content: center;background-color: white;position: relative;}#sk-container-id-1 div.sk-item::before, #sk-container-id-1 div.sk-parallel-item::before {content: \"\";position: absolute;border-left: 1px solid gray;box-sizing: border-box;top: 0;bottom: 0;left: 50%;z-index: -1;}#sk-container-id-1 div.sk-parallel-item {display: flex;flex-direction: column;z-index: 1;position: relative;background-color: white;}#sk-container-id-1 div.sk-parallel-item:first-child::after {align-self: flex-end;width: 50%;}#sk-container-id-1 div.sk-parallel-item:last-child::after {align-self: flex-start;width: 50%;}#sk-container-id-1 div.sk-parallel-item:only-child::after {width: 0;}#sk-container-id-1 div.sk-dashed-wrapped {border: 1px dashed gray;margin: 0 0.4em 0.5em 0.4em;box-sizing: border-box;padding-bottom: 0.4em;background-color: white;}#sk-container-id-1 div.sk-label label {font-family: monospace;font-weight: bold;display: inline-block;line-height: 1.2em;}#sk-container-id-1 div.sk-label-container {text-align: center;}#sk-container-id-1 div.sk-container {/* jupyter's `normalize.less` sets `[hidden] { display: none; }` but bootstrap.min.css set `[hidden] { display: none !important; }` so we also need the `!important` here to be able to override the default hidden behavior on the sphinx rendered scikit-learn.org. See: https://github.com/scikit-learn/scikit-learn/issues/21755 */display: inline-block !important;position: relative;}#sk-container-id-1 div.sk-text-repr-fallback {display: none;}</style><div id=\"sk-container-id-1\" class=\"sk-top-container\"><div class=\"sk-text-repr-fallback\"><pre>GradientBoostingClassifier(learning_rate=0.2, max_depth=4, min_samples_leaf=4,\n",
       "                           random_state=42, subsample=0.8)</pre><b>In a Jupyter environment, please rerun this cell to show the HTML representation or trust the notebook. <br />On GitHub, the HTML representation is unable to render, please try loading this page with nbviewer.org.</b></div><div class=\"sk-container\" hidden><div class=\"sk-item\"><div class=\"sk-estimator sk-toggleable\"><input class=\"sk-toggleable__control sk-hidden--visually\" id=\"sk-estimator-id-1\" type=\"checkbox\" checked><label for=\"sk-estimator-id-1\" class=\"sk-toggleable__label sk-toggleable__label-arrow\">GradientBoostingClassifier</label><div class=\"sk-toggleable__content\"><pre>GradientBoostingClassifier(learning_rate=0.2, max_depth=4, min_samples_leaf=4,\n",
       "                           random_state=42, subsample=0.8)</pre></div></div></div></div></div>"
      ],
      "text/plain": [
       "GradientBoostingClassifier(learning_rate=0.2, max_depth=4, min_samples_leaf=4,\n",
       "                           random_state=42, subsample=0.8)"
      ]
     },
     "execution_count": 18,
     "metadata": {},
     "output_type": "execute_result"
    }
   ],
   "source": [
    "# Reentrenament del RandomForestClassifier \n",
    "rf = RandomForestClassifier(**rf_best_params, random_state=42)\n",
    "rf.fit(X_train_scaled, y_train)\n",
    "\n",
    "# Reentrenament del GradientBoostingClassifier \n",
    "gb = GradientBoostingClassifier(**gb_best_params, random_state=42)\n",
    "gb.fit(X_train_scaled, y_train)\n"
   ]
  },
  {
   "cell_type": "markdown",
   "id": "50342d4a",
   "metadata": {},
   "source": [
    "I ara avaluem els models reentrenats:"
   ]
  },
  {
   "cell_type": "code",
   "execution_count": 19,
   "id": "fa1b01e1",
   "metadata": {},
   "outputs": [
    {
     "name": "stdout",
     "output_type": "stream",
     "text": [
      "RandomForestClassifier amb Dades Escalades:\n",
      "Accuracy: 1.0\n",
      "Confusion Matrix:\n",
      "[[19  0  0]\n",
      " [ 0 21  0]\n",
      " [ 0  0 14]]\n",
      "Classification Report:\n",
      "              precision    recall  f1-score   support\n",
      "\n",
      "           1       1.00      1.00      1.00        19\n",
      "           2       1.00      1.00      1.00        21\n",
      "           3       1.00      1.00      1.00        14\n",
      "\n",
      "    accuracy                           1.00        54\n",
      "   macro avg       1.00      1.00      1.00        54\n",
      "weighted avg       1.00      1.00      1.00        54\n",
      "\n",
      "\n",
      "GradientBoostingClassifier amb Dades Escalades:\n",
      "Accuracy: 1.0\n",
      "Confusion Matrix:\n",
      "[[19  0  0]\n",
      " [ 0 21  0]\n",
      " [ 0  0 14]]\n",
      "Classification Report:\n",
      "              precision    recall  f1-score   support\n",
      "\n",
      "           1       1.00      1.00      1.00        19\n",
      "           2       1.00      1.00      1.00        21\n",
      "           3       1.00      1.00      1.00        14\n",
      "\n",
      "    accuracy                           1.00        54\n",
      "   macro avg       1.00      1.00      1.00        54\n",
      "weighted avg       1.00      1.00      1.00        54\n",
      "\n",
      "\n"
     ]
    }
   ],
   "source": [
    "from sklearn.metrics import accuracy_score, confusion_matrix, classification_report\n",
    "\n",
    "# Avaluar el RandomForestClassifier\n",
    "y_pred_rf = rf.predict(X_test_scaled)\n",
    "print(\"RandomForestClassifier amb Dades Escalades:\")\n",
    "print(f\"Accuracy: {accuracy_score(y_test, y_pred_rf)}\")\n",
    "print(f\"Confusion Matrix:\\n{confusion_matrix(y_test, y_pred_rf)}\")\n",
    "print(f\"Classification Report:\\n{classification_report(y_test, y_pred_rf)}\\n\")\n",
    "\n",
    "# Avaluar el GradientBoostingClassifier\n",
    "y_pred_gb = gb.predict(X_test_scaled)\n",
    "print(\"GradientBoostingClassifier amb Dades Escalades:\")\n",
    "print(f\"Accuracy: {accuracy_score(y_test, y_pred_gb)}\")\n",
    "print(f\"Confusion Matrix:\\n{confusion_matrix(y_test, y_pred_gb)}\")\n",
    "print(f\"Classification Report:\\n{classification_report(y_test, y_pred_gb)}\\n\")\n"
   ]
  },
  {
   "cell_type": "markdown",
   "id": "e5ad8dc9",
   "metadata": {},
   "source": [
    "<b>Anàlisi dels Resultats</b>\n",
    "\n",
    "Els resultats que hem obtingut després d'aplicar l'estandardització a les dades i reentrenar els models RandomForestClassifier i GradientBoostingClassifier indiquen que ambdós models continuen mostrant un rendiment excepcionalment alt. De nou, hem aconseguit una precisió perfecta de 1.0 amb els dos models, i les matrius de confusió i els informes de classificació confirmen que no hi ha hagut cap error en la classificació de les mostres. \n",
    "\n",
    "Hem de considerar 2 aspectes:\n",
    "\n",
    "- Rendiment Consistent: El fet que els models mantinguin una precisió perfecta després de l'estandardització indica que la configuració inicial ja era molt eficaç, i que les característiques estaven probablement ja en una escala comparable, de manera que l'estandardització no ha tingut un impacte significatiu en aquest cas.\n",
    "\n",
    "- Sobreajustament: Una precisió de 1.0 és encara indicativa d'un possible sobreajustament. És poc comú que els models de classificació obtinguin una precisió perfecta en dades reals, i això podria suggerir que el conjunt de dades de prova no està presentant suficients desafiaments al model, o que el model ha après detalls específics del conjunt de dades d'entrenament que no són representatius de dades noves."
   ]
  }
 ],
 "metadata": {
  "kernelspec": {
   "display_name": "Python 3 (ipykernel)",
   "language": "python",
   "name": "python3"
  },
  "language_info": {
   "codemirror_mode": {
    "name": "ipython",
    "version": 3
   },
   "file_extension": ".py",
   "mimetype": "text/x-python",
   "name": "python",
   "nbconvert_exporter": "python",
   "pygments_lexer": "ipython3",
   "version": "3.11.1"
  }
 },
 "nbformat": 4,
 "nbformat_minor": 5
}
